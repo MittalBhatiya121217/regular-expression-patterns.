{
  "nbformat": 4,
  "nbformat_minor": 0,
  "metadata": {
    "colab": {
      "provenance": []
    },
    "kernelspec": {
      "name": "python3",
      "display_name": "Python 3"
    },
    "language_info": {
      "name": "python"
    }
  },
  "cells": [
    {
      "cell_type": "markdown",
      "source": [
        "**Importing libraries for regular expression patterns.**"
      ],
      "metadata": {
        "id": "k0YtNQD3szuL"
      }
    },
    {
      "cell_type": "code",
      "execution_count": null,
      "metadata": {
        "id": "riGvgkmisvyL"
      },
      "outputs": [],
      "source": [
        "import re\n",
        "\n",
        "def apply_regex(data, pattern):\n",
        "  for text in data:\n",
        "    if re.fullmatch(pattern, text):\n",
        "      print(f\"Test string {text} accepted.\")\n",
        "    else:\n",
        "      print(f\"Test string {text} failed!\")"
      ]
    },
    {
      "cell_type": "markdown",
      "source": [
        "Here, we are importing regular expression libraries and using apply_regex() for checking if the string is contains the specified patterns.fullmatch() returns the specifies patterns if and only if that pattern is available in string."
      ],
      "metadata": {
        "id": "ShXR8LY8s1p_"
      }
    },
    {
      "cell_type": "markdown",
      "source": [
        "**Regular expression for binary string.**"
      ],
      "metadata": {
        "id": "lSKXRAf8u96c"
      }
    },
    {
      "cell_type": "code",
      "source": [
        "# find binary strings\n",
        "import re\n",
        "test_strings = [\"0\", \"1\", \"dog\", \"hello, world\", \"123\", \"00\", \"10101010111\"]\n",
        "binary_pattern = r'[0-1]+'\n",
        "apply_regex(test_strings, binary_pattern)"
      ],
      "metadata": {
        "colab": {
          "base_uri": "https://localhost:8080/"
        },
        "id": "7nCaYJS7s1-8",
        "outputId": "cdf236f2-1480-4f66-f8f3-73fbfc74ddc2"
      },
      "execution_count": null,
      "outputs": [
        {
          "output_type": "stream",
          "name": "stdout",
          "text": [
            "Test string 0 accepted.\n",
            "Test string 1 accepted.\n",
            "Test string dog failed!\n",
            "Test string hello, world failed!\n",
            "Test string 123 failed!\n",
            "Test string 00 accepted.\n",
            "Test string 10101010111 accepted.\n"
          ]
        }
      ]
    },
    {
      "cell_type": "markdown",
      "source": [
        "Here, we try provide test string with digits and characters.set the pattern as [0-1]+ means that it will return  the digits between 0 to 1 and and only pattern have 0 and 1.so,focusing on the output from the string it returns \"0\",\"1\",\"00\",\"10101010111\" as accepted apart from that all other characters and digits avoids the patterns."
      ],
      "metadata": {
        "id": "4hpooHWuvMDJ"
      }
    },
    {
      "cell_type": "markdown",
      "source": [
        "**Matching 24-bit hexadecimal codes.**"
      ],
      "metadata": {
        "id": "_dKK2PhWs2YS"
      }
    },
    {
      "cell_type": "code",
      "source": [
        "# find 24-bit hexadecimal color codes\n",
        "test_strings = [\"#F0F8FF\", \"#FFF\", \"#00FFFFF\", \"#2980BD\", \"#FAEBD7\"]\n",
        "hexcode_pattern = r'\\#[0-9A-F]{5,6}'\n",
        "apply_regex(test_strings, hexcode_pattern)"
      ],
      "metadata": {
        "colab": {
          "base_uri": "https://localhost:8080/"
        },
        "id": "q8KTq1Lfs2r6",
        "outputId": "ad5176be-d821-4b7e-b2fb-42b4c7c28244"
      },
      "execution_count": null,
      "outputs": [
        {
          "output_type": "stream",
          "name": "stdout",
          "text": [
            "Test string #F0F8FF accepted.\n",
            "Test string #FFF failed!\n",
            "Test string #00FFFFF failed!\n",
            "Test string #2980BD accepted.\n",
            "Test string #FAEBD7 accepted.\n"
          ]
        }
      ]
    },
    {
      "cell_type": "markdown",
      "source": [
        "Here, we try to test string for hexadecimal color codes. we provide hexcode_pattern = r'\\#[0-9A-F]{5,6}' which represent '\\' permits to allowed special character '#'.[0-9A-Fa-f] returns 0 to 9 digits as well as A to F letters that will match any hexadecimal digit.{5,6} specify that number of repetation of 5 or 6. In the output \"#F0F8FF\" is accepted because alll the predifened pattern matches.\"#FFF\" is failed because as per our pre-defined pattern hexadecimal codes must have 0-9 degits as well as A-F characters and that condition is not specified here. \"#00FFFFF\" this is failed because the size of the repetation character and digits is 5 or 6 but here the total length for code is 7 which is not satisfy.\n"
      ],
      "metadata": {
        "id": "gSIcxeeuydm0"
      }
    },
    {
      "cell_type": "markdown",
      "source": [
        "**Question - 1**"
      ],
      "metadata": {
        "id": "gPutErEns3Bb"
      }
    },
    {
      "cell_type": "markdown",
      "source": [
        "**Identify what types of strings the regular expression in the below code block represents?**"
      ],
      "metadata": {
        "id": "ZovTUtJy5UKu"
      }
    },
    {
      "cell_type": "code",
      "source": [
        "# All you need to do is run this code block, analyze the output and answer the associated question.\n",
        "import re\n",
        "re_pattern = r'(\\([0-9][0-9][0-9]\\)\\s)?[0-9][0-9][0-9]-[0-9][0-9][0-9][0-9]'\n",
        "test_strings = [\"00\", \"999-999-9999\", \"(111) 111-1111\", \"(111)111-1111\", \"989-1830\", \"241/131/103\", \"(182).1903.1021\", \"(101).101.1001\"]\n",
        "apply_regex(test_strings, re_pattern)"
      ],
      "metadata": {
        "colab": {
          "base_uri": "https://localhost:8080/"
        },
        "id": "LxnKUOd4s3Vt",
        "outputId": "90837972-4551-4c19-bf35-75ea1b34cbef"
      },
      "execution_count": null,
      "outputs": [
        {
          "output_type": "stream",
          "name": "stdout",
          "text": [
            "Test string 00 failed!\n",
            "Test string 999-999-9999 failed!\n",
            "Test string (111) 111-1111 accepted.\n",
            "Test string (111)111-1111 failed!\n",
            "Test string 989-1830 accepted.\n",
            "Test string 241/131/103 failed!\n",
            "Test string (182).1903.1021 failed!\n",
            "Test string (101).101.1001 failed!\n"
          ]
        }
      ]
    },
    {
      "cell_type": "markdown",
      "source": [
        "Here, we import re library for regular expression search pattern.as per the re_pattern = r'(\\([0-9][0-9][0-9]\\)\\s)?[0-9][0-9][0-9]-[0-9][0-9][0-9][0-9]'\n",
        "\n",
        "'()' - repersent matches whatever inside this regular expression in this brackets and this indicates the staring and ending the group.\n",
        "'\\' - represent permitting the whatever special character after that match in regular expression here is used for '('.\n",
        "\n",
        "'[ ]' - represent the set.\n",
        "'[0-9]' - its only allowed 0 to 9 digits.here we provide its 3 times so it must be 3 digits at starting.\n",
        "'\\s' - if there is any whitespace then its match with the whitespace.\n",
        "'?' - this will matches the previous digits from 0 to 9.\n",
        "'-' - this is used when we need this special chracter must be match in the pattern.\n",
        "\n",
        "**output**:\n",
        "00 - failed becuase the pre-defined pattern doesn't match.\n",
        "999-999-9999 - failed because first condition is satisfy for 0 to 9 between digits 3 times but second condition for \\s for white space is not satified so its failed.\n",
        "(111) 111-1111 - this is accepted as first condition is setisfy for \\([0-9]... and \\s white space condition is also specified. '-' this special character condition is also satified as well as last condition for 4 times digits from 0  to 9 is also setified so its accepted.\n",
        "989-1830 - this is accepted as our coditions are satisfied here for 0-9 digits. must have '-' and last 4 times digits from 0-9.\n",
        "\n",
        "In conclusion this pattern is used for searching telephone numbers."
      ],
      "metadata": {
        "id": "fZ83_j-c6gCX"
      }
    },
    {
      "cell_type": "markdown",
      "source": [
        "**Question - 2**"
      ],
      "metadata": {
        "id": "iBaUo7kIAq9j"
      }
    },
    {
      "cell_type": "markdown",
      "source": [
        "**Modify the regular expression (used in Q1.) to also accept strings that follow the format `xxx-xxx-xxxx` where `x` is a digit between 0 to 9?**"
      ],
      "metadata": {
        "id": "IU0EMBMABmA2"
      }
    },
    {
      "cell_type": "code",
      "source": [
        "# All you need to do is run this code block, analyze the output and answer the associated question.\n",
        "import re\n",
        "re_pattern = r'([0-9][0-9][0-9])-?[0-9][0-9][0-9]-[0-9][0-9][0-9][0-9]'\n",
        "test_strings = [\"00\", \"999-999-9999\", \"(111) 111-1111\", \"(111)111-1111\", \"989-1830\", \"241/131/103\", \"(182).1903.1021\", \"(101).101.1001\"]\n",
        "apply_regex(test_strings, re_pattern)"
      ],
      "metadata": {
        "colab": {
          "base_uri": "https://localhost:8080/"
        },
        "id": "vLkWR0mPArUa",
        "outputId": "2fd85c74-f73e-4f2f-edec-3c3130ce5fd0"
      },
      "execution_count": null,
      "outputs": [
        {
          "output_type": "stream",
          "name": "stdout",
          "text": [
            "Test string 00 failed!\n",
            "Test string 999-999-9999 accepted.\n",
            "Test string (111) 111-1111 failed!\n",
            "Test string (111)111-1111 failed!\n",
            "Test string 989-1830 failed!\n",
            "Test string 241/131/103 failed!\n",
            "Test string (182).1903.1021 failed!\n",
            "Test string (101).101.1001 failed!\n"
          ]
        }
      ]
    },
    {
      "cell_type": "markdown",
      "source": [
        "Here, we set the regular expression pattern for searching phone numbers.we set the pattern as xxx-xxx-xxxx.\n",
        "pre-defined pattern for this is 're_pattern = r'([0-9][0-9][0-9])-?[0-9][0-9][0-9]-[0-9][0-9][0-9][0-9]'\n",
        "\n",
        "'([0-9][0-9][0-9])' - represent that it should be 3 digits between 0 to 9.\n",
        "'-' - this is must special character. this must be include in the search pattern results for match.\n",
        "'?' - its match with the previous digits 0-9.\n",
        "\n",
        "'[0-9][0-9][0-9][0-9]' - represent that it should be 4 digits between  0 to 9.\n",
        "\n",
        "**Output:**\n",
        "00 - failed because not a single condtion setify.\n",
        "999-999-9999 -  accepted because all the condition is satisfy for starting 3 digits between 0-9 in addition there is '-' as a must special character its also setisfy at the last 4 digits between 0-9 is also satisfy.\n"
      ],
      "metadata": {
        "id": "a9F5t0yBCQWO"
      }
    },
    {
      "cell_type": "markdown",
      "source": [
        "**Question - 3**"
      ],
      "metadata": {
        "id": "Bs6z8JQfIUw2"
      }
    },
    {
      "cell_type": "markdown",
      "source": [
        "**Modify the regular expression (used in Q2.) to also accept strings that are of the form `(xxx) xxx-xxxx` and `(xxx)xxx-xxxx` where `x` is a digit between 0 to 9?**"
      ],
      "metadata": {
        "id": "BVBzJzXIIU8E"
      }
    },
    {
      "cell_type": "markdown",
      "source": [
        "**For Pattern (xxx) xxx-xxxx**"
      ],
      "metadata": {
        "id": "RIL70fh9JFc4"
      }
    },
    {
      "cell_type": "code",
      "source": [
        "# All you need to do is run this code block, analyze the output and answer the associated question.\n",
        "import re\n",
        "re_pattern = r'(\\([0-9][0-9][0-9])\\)\\s ?[0-9][0-9][0-9]-[0-9][0-9][0-9][0-9]'\n",
        "test_strings = [\"00\", \"999-999-9999\", \"(111) 111-1111\", \"(111)111-1111\", \"(999) 989-1830\", \"241/131/103\", \"(182).1903.1021\", \"(101).101.1001\"]\n",
        "apply_regex(test_strings, re_pattern)"
      ],
      "metadata": {
        "colab": {
          "base_uri": "https://localhost:8080/"
        },
        "id": "JclvUTRuIVNy",
        "outputId": "57c7fb0b-abe3-48ac-c384-d54ae6d7f917"
      },
      "execution_count": null,
      "outputs": [
        {
          "output_type": "stream",
          "name": "stdout",
          "text": [
            "Test string 00 failed!\n",
            "Test string 999-999-9999 failed!\n",
            "Test string (111) 111-1111 accepted.\n",
            "Test string (111)111-1111 failed!\n",
            "Test string (999) 989-1830 accepted.\n",
            "Test string 241/131/103 failed!\n",
            "Test string (182).1903.1021 failed!\n",
            "Test string (101).101.1001 failed!\n"
          ]
        }
      ]
    },
    {
      "cell_type": "markdown",
      "source": [
        "Here, we try to search the regular expression pattern (xxx) xxx-xxxx.\n",
        "we used this pattern for matching regular expression re_pattern = r'(\\([0-9][0-9][0-9])\\)\\s ?[0-9][0-9][0-9]-[0-9][0-9][0-9][0-9]'\n",
        "where,\n",
        "'()' - this idicated the starting and ending of the group.\n",
        "'\\' - represent permitting the whatever special character after that match in regular expression pattern here is used for '('.\n",
        "'[0-9][0-9][0-9] '- this is used for matching pattern between 0-9 digits for 3 times.\n",
        "'\\s' -  for match white spaces.\n",
        "'-'  -  is used as a must present in the matching pattern.\n",
        "'?' - match the previous digits 0-9.\n",
        "\n",
        "**Output:**\n",
        "999-999-9999 : is failed because the conditions are not satisfy.the digits must have in () brackets not satisfied. we need space not - \\s not setified last two condition for - and 4 digits between 0-9 satisfy but we need to match all the patterns.\n",
        "\n",
        "(111) 111-1111 - is accepted because all the patterns are matched. () matched the condition. must have digits between 0-9 pattern match as well as \\s for white space is satified. must matched the - pattern is also satisfied. last condition for 4 digits between 0-9.\n"
      ],
      "metadata": {
        "id": "xp6CiCfNLe2F"
      }
    },
    {
      "cell_type": "markdown",
      "source": [
        "**For pattern (xxx)xxx-xxxx**"
      ],
      "metadata": {
        "id": "p_s6MOuLLenE"
      }
    },
    {
      "cell_type": "code",
      "source": [
        "import re\n",
        "re_pattern = r'(\\([0-9][0-9][0-9])\\)?[0-9][0-9][0-9]-[0-9][0-9][0-9][0-9]'\n",
        "test_strings = [\"00\", \"999-999-9999\", \"(111) 111-1111\", \"(111)111-1111\", \"(999) 989-1830\", \"241/131/103\", \"(182).1903.1021\", \"(101).101.1001\"]\n",
        "apply_regex(test_strings, re_pattern)"
      ],
      "metadata": {
        "colab": {
          "base_uri": "https://localhost:8080/"
        },
        "id": "xA24AAPmWOFO",
        "outputId": "7082b3fa-d971-4747-e053-e42fb8589a65"
      },
      "execution_count": null,
      "outputs": [
        {
          "output_type": "stream",
          "name": "stdout",
          "text": [
            "Test string 00 failed!\n",
            "Test string 999-999-9999 failed!\n",
            "Test string (111) 111-1111 failed!\n",
            "Test string (111)111-1111 accepted.\n",
            "Test string (999) 989-1830 failed!\n",
            "Test string 241/131/103 failed!\n",
            "Test string (182).1903.1021 failed!\n",
            "Test string (101).101.1001 failed!\n"
          ]
        }
      ]
    },
    {
      "cell_type": "markdown",
      "source": [
        "Here, we try to search the regular expression pattern (xxx) xxx-xxxx.\n",
        "we used this pattern for matching regular expression re_pattern = r'(\\([0-9][0-9][0-9])\\)?[0-9][0-9][0-9]-[0-9][0-9][0-9][0-9]'\n",
        "\n",
        "where,\n",
        "'()' - this idicated the starting and ending of the group.\n",
        "'\\' - represent permitting the whatever special character after that match in regular expression pattern must match in pattern here this is used for '('.\n",
        "'[0-9][0-9][0-9] '- this is used for matching pattern between 0-9 digits for 3 times.\n",
        "'-'  -  is used as a must present in the matching pattern.\n",
        "'?' - match the previous digits 0-9.\n",
        "\n",
        "**Output:**\n",
        "999-999-9999 : is failed because the conditions are not satisfy.the digits must have in () brackets not satisfied. we need space not - \\s not setified last two condition for - and 4 digits between 0-9 satisfy but we need to match all the patterns.\n",
        "\n",
        "(111)111-1111 - is accepted because all the patterns are matched. () matched the condition. must have digits between 0-9 pattern match.- is must matched the - pattern is also satisfied. last condition for 4 digits between 0-9.\n"
      ],
      "metadata": {
        "id": "JuUtMUeLWZ_D"
      }
    },
    {
      "cell_type": "markdown",
      "source": [
        "**Question - 4**"
      ],
      "metadata": {
        "id": "CIt4zPS1X8sM"
      }
    },
    {
      "cell_type": "markdown",
      "source": [
        "**Modify the regular expression (used in Q3.) to accept strings that have the format `(xxx)-xxx-xxxx` and `(xxx).xxx.xxxx` but reject strings that are of the format `(xxx)/xxx.xxxx` where `x` is a digit between 0 to 9?**"
      ],
      "metadata": {
        "id": "UzK1G8T6X9C_"
      }
    },
    {
      "cell_type": "markdown",
      "source": [
        "**For pattern (xxx)-xxx-xxxx**"
      ],
      "metadata": {
        "id": "nTearsf1Y0-P"
      }
    },
    {
      "cell_type": "code",
      "source": [
        "import re\n",
        "re_pattern = r'(\\([0-9][0-9][0-9])\\)-[0-9][0-9][0-9]-[0-9][0-9][0-9][0-9]'\n",
        "test_strings = [\"00\", \"999-999-9999\", \"(111) 111-1111\", \"(111)-111-1111\", \"989-1830\", \"241/131/103\", \"(182).1903.1021\", \"(101).101.1001\",\"(101)/111.0101\"]\n",
        "apply_regex(test_strings, re_pattern)"
      ],
      "metadata": {
        "colab": {
          "base_uri": "https://localhost:8080/"
        },
        "id": "1aANhsiVX9YJ",
        "outputId": "58edb1d3-2cc9-4713-daa6-7b1638416322"
      },
      "execution_count": null,
      "outputs": [
        {
          "output_type": "stream",
          "name": "stdout",
          "text": [
            "Test string 00 failed!\n",
            "Test string 999-999-9999 failed!\n",
            "Test string (111) 111-1111 failed!\n",
            "Test string (111)-111-1111 accepted.\n",
            "Test string 989-1830 failed!\n",
            "Test string 241/131/103 failed!\n",
            "Test string (182).1903.1021 failed!\n",
            "Test string (101).101.1001 failed!\n",
            "Test string (101)/111.0101 failed!\n"
          ]
        }
      ]
    },
    {
      "cell_type": "markdown",
      "source": [
        "Here, we try to match pattern for telephone number (XXX)-XXX-xxxx where x stands for digit between 0 -9.\n",
        "'\\' - is majorly use for after that slash sign whatever is the next sign is must available in the pattern match.\n",
        "'[0-9][0-9][0-9]' -   is used for specified that match digit between 0 to 9.here, we use this 3 times so it will took 3 digits from 0-9.\n",
        "'-' - is used as a must matching pattern.\n",
        "'[0-9][0-9][0-9][0-9]'-  is used for specified that match digit between 0 to 9.here, we use this 4 times so it will took 4 digits from 0-9.\n",
        "\n",
        "**Output :**\n",
        "\n",
        "00 - failed because our all pattern match conditions are reject.\n",
        "(111) 111-1111 - failed because our first condition for () brackets and 3 digits between 0 -9 is satisfied but after that here there is white space and pattern match condition is for - not for white space so its rejected.\n",
        "\n",
        "(111)-111-1111 - this pattern is accepted as our all condition for pattern match is accepted. () brackets start and end as well as 3 digits between 0 -9. - must be available in  between is satisfy. In conclusion, our all the pattern match requirement satisfy so its accepted.\n"
      ],
      "metadata": {
        "id": "kXGyEf1-hbRV"
      }
    },
    {
      "cell_type": "markdown",
      "source": [
        "**For pattern (xxx).xxx.xxxx**"
      ],
      "metadata": {
        "id": "iEYs54LOaL9l"
      }
    },
    {
      "cell_type": "code",
      "source": [
        "import re\n",
        "re_pattern = r'(\\([0-9][0-9][0-9])\\)\\.[0-9][0-9][0-9].[0-9][0-9][0-9][0-9]'\n",
        "test_strings = [\"00\", \"(999).999.9999\", \"(111) 111-1111\", \"(111)-111-1111\", \"989-1830\", \"241/131/103\", \"(182).1903.1021\", \"(101).101.1001\",\"(101)/111.0101\"]\n",
        "apply_regex(test_strings, re_pattern)"
      ],
      "metadata": {
        "colab": {
          "base_uri": "https://localhost:8080/"
        },
        "id": "Y0Fl7uAHaK0L",
        "outputId": "aecc73b7-dc94-4cb0-ceb5-20f3c2040146"
      },
      "execution_count": null,
      "outputs": [
        {
          "output_type": "stream",
          "name": "stdout",
          "text": [
            "Test string 00 failed!\n",
            "Test string (999).999.9999 accepted.\n",
            "Test string (111) 111-1111 failed!\n",
            "Test string (111)-111-1111 failed!\n",
            "Test string 989-1830 failed!\n",
            "Test string 241/131/103 failed!\n",
            "Test string (182).1903.1021 failed!\n",
            "Test string (101).101.1001 accepted.\n",
            "Test string (101)/111.0101 failed!\n"
          ]
        }
      ]
    },
    {
      "cell_type": "markdown",
      "source": [
        "Here, we try to match pattern for telephone number (XXX)-XXX-xxxx where x stands for digit between 0 -9.\n",
        "'\\' - is majorly use for after that slash sign whatever is the next sign is must available in the pattern match.\n",
        "'[0-9][0-9][0-9]' -   is used for specified that match digit between 0 to 9.here, we use this 3 times so it will took 3 digits from 0-9.\n",
        "'.'  - dot is used as a must matching pattern.\n",
        "'[0-9][0-9][0-9][0-9]'-  is used for specified that match digit between 0 to 9.here, we use this 4 times so it will took 4 digits from 0-9.\n",
        "\n",
        "\n",
        "\n",
        "**Output :**\n",
        "\n",
        "00 - failed because our all pattern match conditions are reject.\n",
        "(111) 111-1111 - failed because our first condition for () brackets and 3 digits between 0 - 9 is satisfied but after that here there is white space and pattern match condition is for - not for white space so its rejected.\n",
        "\n",
        "(101)-101-1001 - this pattern is accepted as our all condition for pattern match is accepted. () brackets start and end as well as it must be  3 digits between 0 -9. \".\"(dot) must be available in  between is satisfy. In conclusion, our all the pattern match requirement satisfy so its accepted.\n"
      ],
      "metadata": {
        "id": "A6oIKqVajsCz"
      }
    },
    {
      "cell_type": "markdown",
      "source": [
        "**Using regular expressions based pattern matching on real world text**"
      ],
      "metadata": {
        "id": "ikYduFywMyQ6"
      }
    },
    {
      "cell_type": "code",
      "source": [
        "text = \"\"\"Here is the First Paragraph and this is the First Sentence. here is the Second Sentence. now is the Third Sentence. this is the Fourth Sentence of the first paragaraph. this paragraph is ending now with a Fifth Sentence.\n",
        "Now, it is the Second Paragraph and its First Sentence. here is the Second Sentence. now is the Third Sentence. this is the Fourth Sentence of the second paragraph. this paragraph is ending now with a Fifth Sentence.\n",
        "Finally, this is the Third Paragraph and is the First Sentence of this paragraph. here is the Second Sentence. now is the Third Sentence. this is the Fourth Sentence of the third paragaraph. this paragraph is ending now with a Fifth Sentence.\n",
        "4th paragraph is not going to be detected by either of the regex patterns below.\n",
        "\"\"\"\n",
        "\n",
        "print(text)"
      ],
      "metadata": {
        "colab": {
          "base_uri": "https://localhost:8080/"
        },
        "id": "9s_Xe_aUMygs",
        "outputId": "0a210614-8d87-4388-aeac-69b005d90ed9"
      },
      "execution_count": null,
      "outputs": [
        {
          "output_type": "stream",
          "name": "stdout",
          "text": [
            "Here is the First Paragraph and this is the First Sentence. here is the Second Sentence. now is the Third Sentence. this is the Fourth Sentence of the first paragaraph. this paragraph is ending now with a Fifth Sentence.\n",
            "Now, it is the Second Paragraph and its First Sentence. here is the Second Sentence. now is the Third Sentence. this is the Fourth Sentence of the second paragraph. this paragraph is ending now with a Fifth Sentence.\n",
            "Finally, this is the Third Paragraph and is the First Sentence of this paragraph. here is the Second Sentence. now is the Third Sentence. this is the Fourth Sentence of the third paragaraph. this paragraph is ending now with a Fifth Sentence.\n",
            "4th paragraph is not going to be detected by either of the regex patterns below.\n",
            "\n"
          ]
        }
      ]
    },
    {
      "cell_type": "markdown",
      "source": [
        "The following code block shows a regular expression that matches only those strings that:\n",
        "1. are at the start of a line and\n",
        "2. the string does not start with a number or a whitespace\n",
        "\n",
        "`re.findall()` finds all matches of the pattern in the text under consideration. The output is a list of strings that matched."
      ],
      "metadata": {
        "id": "AeYSSJucNafA"
      }
    },
    {
      "cell_type": "code",
      "source": [
        "re_pattern1 = r'^[^0-9 ]+'\n",
        "print(re.findall(re_pattern1, text, re.MULTILINE))"
      ],
      "metadata": {
        "colab": {
          "base_uri": "https://localhost:8080/"
        },
        "id": "4XP7iWB8NdKE",
        "outputId": "d801460c-570a-43c3-b03e-1135d14a2f87"
      },
      "execution_count": null,
      "outputs": [
        {
          "output_type": "stream",
          "name": "stdout",
          "text": [
            "['Here', 'Now,', 'Finally,']\n"
          ]
        }
      ]
    },
    {
      "cell_type": "markdown",
      "source": [
        "re_patttern1 - this is the specified pattern for match to the string to search similar patterns.\n",
        "\n",
        "re.findall() - this is used for identifies every match and returns it as a list of strings, each string denoting a different match.\n",
        "\n",
        "text -  is predefined text paragraph used for pattern match.\n",
        "\n",
        "re.MULTILINE - this is used for allow a multiple lines input string to be handled by the regular expression pattern match.\n",
        "\n",
        "^ - is used to check that string start with 0 - 9 or not.\n",
        "[^0-9] - is used for return a character but not return the digit between 0 - 9.\n",
        "'+'  - is used for return a any + character match from the string.\n"
      ],
      "metadata": {
        "id": "2py5U9Bdku94"
      }
    },
    {
      "cell_type": "markdown",
      "source": [
        "**Further, the regular expression defined below matches two consecutive words that are capitalized.**"
      ],
      "metadata": {
        "id": "tYOiD5XQPGmt"
      }
    },
    {
      "cell_type": "code",
      "source": [
        "re_pattern2 = r'[A-Z][a-z]+ [A-Z][a-z]+'\n",
        "print(re.findall(re_pattern2, text))"
      ],
      "metadata": {
        "colab": {
          "base_uri": "https://localhost:8080/"
        },
        "id": "YeufOmAEPG8P",
        "outputId": "0c69fd29-f3b4-4fbf-d805-09e54d185b2f"
      },
      "execution_count": null,
      "outputs": [
        {
          "output_type": "stream",
          "name": "stdout",
          "text": [
            "['First Paragraph', 'First Sentence', 'Second Sentence', 'Third Sentence', 'Fourth Sentence', 'Fifth Sentence', 'Second Paragraph', 'First Sentence', 'Second Sentence', 'Third Sentence', 'Fourth Sentence', 'Fifth Sentence', 'Third Paragraph', 'First Sentence', 'Second Sentence', 'Third Sentence', 'Fourth Sentence', 'Fifth Sentence']\n"
          ]
        }
      ]
    },
    {
      "cell_type": "markdown",
      "source": [
        "re_patttern2 - this is the specified pattern for match to the string to search similar patterns.\n",
        "\n",
        "re.findall() - this is used for identifies every match and returns it as a list of strings, each string denoting a different match.\n",
        "\n",
        "text -  is predefined text paragraph used for pattern match.\n",
        "\n",
        "\n",
        "[A-Z][a-z] - is used for return a character between Captital A - Z starting word must be capital and others are small characters.\n",
        "'+'  - is used for return a any + character match from the string.\n"
      ],
      "metadata": {
        "id": "aJIjwGWRpvyC"
      }
    },
    {
      "cell_type": "code",
      "source": [
        "inau_text=\"\"\"The custom of delivering an address on Inauguration Day started with the very first Inauguration—George Washington’s—on April 30, 1789. After taking his oath of office on the balcony of Federal Hall in New York City, Washington proceeded to the Senate chamber where he read a speech before members of Congress and other dignitaries. His second Inauguration took place in Philadelphia on March 4, 1793, in the Senate chamber of Congress Hall. There, Washington gave the shortest Inaugural address on record—just 135 words —before repeating the oath of office.\n",
        "Every President since Washington has delivered an Inaugural address. While many of the early Presidents read their addresses before taking the oath, current custom dictates that the Chief Justice of the Supreme Court administer the oath first, followed by the President’s speech.\n",
        "William Henry Harrison delivered the longest Inaugural address, at 8,445 words, on March 4, 1841—a bitterly cold, wet day. He died one month later of pneumonia, believed to have been brought on by prolonged exposure to the elements on his Inauguration Day. John Adams’ Inaugural address, which totaled 2,308 words, contained the longest sentence, at 737 words. After Washington’s second Inaugural address, the next shortest was Franklin D. Roosevelt’s fourth address on January 20, 1945, at just 559 words. Roosevelt had chosen to have a simple Inauguration at the White House in light of the nation’s involvement in World War II.\n",
        "In 1921, Warren G. Harding became the first President to take his oath and deliver his Inaugural address through loud speakers. In 1925, Calvin Coolidge’s Inaugural address was the first to be broadcast nationally by radio. And in 1949, Harry S. Truman became the first President to deliver his Inaugural address over television airwaves.\n",
        "Most Presidents use their Inaugural address to present their vision of America and to set forth their goals for the nation. Some of the most eloquent and powerful speeches are still quoted today. In 1865, in the waning days of the Civil War, Abraham Lincoln stated, “With malice toward none, with charity for all, with firmness in the right as God gives us to see the right, let us strive on to finish the work we are in, to bind up the nation’s wounds, to care for him who shall have borne the battle and for his widow and his orphan, to do all which may achieve and cherish a just and lasting peace among ourselves and with all nations.” In 1933, Franklin D. Roosevelt avowed, “we have nothing to fear but fear itself.” And in 1961, John F. Kennedy declared, “And so my fellow Americans: ask not what your country can do for you—ask what you can do for your country.”\n",
        "Today, Presidents deliver their Inaugural address on the West Front of the Capitol, but this has not always been the case. Until Andrew Jackson’s first Inauguration in 1829, most Presidents spoke in either the House or Senate chambers. Jackson became the first President to take his oath of office and deliver his address on the East Front Portico of the U.S. Capitol in 1829. With few exceptions, the next 37 Inaugurations took place there, until 1981, when Ronald Reagan’s Swearing-In Ceremony and Inaugural address occurred on the West Front Terrace of the Capitol. The West Front has been used ever since.\"\"\"\n",
        "\n",
        "print(inau_text)"
      ],
      "metadata": {
        "colab": {
          "base_uri": "https://localhost:8080/"
        },
        "id": "Ty6njPoOPWSd",
        "outputId": "03714d09-5849-4a72-f318-80e8bb492557"
      },
      "execution_count": null,
      "outputs": [
        {
          "output_type": "stream",
          "name": "stdout",
          "text": [
            "The custom of delivering an address on Inauguration Day started with the very first Inauguration—George Washington’s—on April 30, 1789. After taking his oath of office on the balcony of Federal Hall in New York City, Washington proceeded to the Senate chamber where he read a speech before members of Congress and other dignitaries. His second Inauguration took place in Philadelphia on March 4, 1793, in the Senate chamber of Congress Hall. There, Washington gave the shortest Inaugural address on record—just 135 words —before repeating the oath of office.\n",
            "Every President since Washington has delivered an Inaugural address. While many of the early Presidents read their addresses before taking the oath, current custom dictates that the Chief Justice of the Supreme Court administer the oath first, followed by the President’s speech.\n",
            "William Henry Harrison delivered the longest Inaugural address, at 8,445 words, on March 4, 1841—a bitterly cold, wet day. He died one month later of pneumonia, believed to have been brought on by prolonged exposure to the elements on his Inauguration Day. John Adams’ Inaugural address, which totaled 2,308 words, contained the longest sentence, at 737 words. After Washington’s second Inaugural address, the next shortest was Franklin D. Roosevelt’s fourth address on January 20, 1945, at just 559 words. Roosevelt had chosen to have a simple Inauguration at the White House in light of the nation’s involvement in World War II.\n",
            "In 1921, Warren G. Harding became the first President to take his oath and deliver his Inaugural address through loud speakers. In 1925, Calvin Coolidge’s Inaugural address was the first to be broadcast nationally by radio. And in 1949, Harry S. Truman became the first President to deliver his Inaugural address over television airwaves.\n",
            "Most Presidents use their Inaugural address to present their vision of America and to set forth their goals for the nation. Some of the most eloquent and powerful speeches are still quoted today. In 1865, in the waning days of the Civil War, Abraham Lincoln stated, “With malice toward none, with charity for all, with firmness in the right as God gives us to see the right, let us strive on to finish the work we are in, to bind up the nation’s wounds, to care for him who shall have borne the battle and for his widow and his orphan, to do all which may achieve and cherish a just and lasting peace among ourselves and with all nations.” In 1933, Franklin D. Roosevelt avowed, “we have nothing to fear but fear itself.” And in 1961, John F. Kennedy declared, “And so my fellow Americans: ask not what your country can do for you—ask what you can do for your country.”\n",
            "Today, Presidents deliver their Inaugural address on the West Front of the Capitol, but this has not always been the case. Until Andrew Jackson’s first Inauguration in 1829, most Presidents spoke in either the House or Senate chambers. Jackson became the first President to take his oath of office and deliver his address on the East Front Portico of the U.S. Capitol in 1829. With few exceptions, the next 37 Inaugurations took place there, until 1981, when Ronald Reagan’s Swearing-In Ceremony and Inaugural address occurred on the West Front Terrace of the Capitol. The West Front has been used ever since.\n"
          ]
        }
      ]
    },
    {
      "cell_type": "markdown",
      "source": [
        "**Question 5a**\n",
        "\n",
        "Identify all the capitalized words in the \"Inaugural Address\" excerpt and write a regular expression that finds all occurrences of such words in the text. Then, run the Python code snippet to automatically display the matched strings according to the pattern.\n",
        "\n",
        "NOTE: You can use the re.findall() method as demonstrated in the example before this exercise."
      ],
      "metadata": {
        "id": "b4UYvr5dPj1T"
      }
    },
    {
      "cell_type": "code",
      "source": [
        "re_pattern2 = r'[A-Z][a-z]+ [A-Z][a-z]+'\n",
        "print(re.findall(re_pattern2, inau_text))\n",
        "\n",
        "re_pattern1 = r'^[^0-9 ]+'\n",
        "print(re.findall(re_pattern1, inau_text, re.MULTILINE))"
      ],
      "metadata": {
        "colab": {
          "base_uri": "https://localhost:8080/"
        },
        "id": "YaADxqg7PkO0",
        "outputId": "bb5fdac0-3239-4ee6-9e21-ea07d1d00d57"
      },
      "execution_count": null,
      "outputs": [
        {
          "output_type": "stream",
          "name": "stdout",
          "text": [
            "['Inauguration Day', 'George Washington', 'Federal Hall', 'New York', 'Congress Hall', 'Every President', 'Chief Justice', 'Supreme Court', 'William Henry', 'Inauguration Day', 'John Adams', 'After Washington', 'White House', 'World War', 'Calvin Coolidge', 'Most Presidents', 'Civil War', 'Abraham Lincoln', 'West Front', 'Until Andrew', 'East Front', 'Ronald Reagan', 'In Ceremony', 'West Front', 'The West']\n",
            "['The', 'Every', 'William', 'In', 'Most', 'Today,']\n"
          ]
        }
      ]
    },
    {
      "cell_type": "markdown",
      "source": [
        "re_patttern2, re_pattern1 - both is this are the specified pattern for match to the string to search similar patterns.\n",
        "\n",
        "re.findall() - this is used for identifies every match and returns it as a list of strings, each string denoting a different match.\n",
        "\n",
        "inau_text -  is predefined text paragraph used for pattern match.\n",
        "\n",
        "\n",
        "[A-Z][a-z] - is used for return a character between Captital A - Z starting word must be capital and others are small characters.\n",
        "'+' - is used for return a any + character match from the string.\n",
        "re.MULTILINE - this is used for allow a multiple lines input string to be handled by the regular expression pattern match.\n",
        "\n",
        "'^'  - is used to check that string start with 0 - 9 or not.\n",
        "[^0-9] - is used for return a character but not return the digit between 0 - 9.\n",
        "\n",
        "\n",
        "[A-Z][a-z]+ [A-Z][a-z]+  - this pattern is used for searching pattern for character between A - Z capital words and a - z for other small characters.\n",
        "\n",
        "\n",
        "^[^0-9 ]+  - this pattern is used for not return the digits between 0 to 9.\n",
        "\n",
        "In conclusion, we fetch the pattern where first and second words staring letters are capital other following letters are lowercase."
      ],
      "metadata": {
        "id": "VMQUhzPmqrJ3"
      }
    },
    {
      "cell_type": "markdown",
      "source": [
        "**Question 5b**\n",
        "\n",
        "*Identify all the dates in the \"Inaugural Address\" excerpt and write a regular expression that finds all occurrences of the dates in the text. Then, run the Python code snippet to automatically display a list of all such dates identified.*\n",
        "\n",
        "NOTE: You can use the *re.findall()* method as demonstrated in the example before this exercise."
      ],
      "metadata": {
        "id": "9qiT4X3CQ6qF"
      }
    },
    {
      "cell_type": "code",
      "source": [
        "re_pattern3=r'(?:January|February|March|April|May|June|July|August|September|October|November|December) \\d{1,2}, \\d{4}'\n",
        "print(re.findall(re_pattern3,inau_text))"
      ],
      "metadata": {
        "colab": {
          "base_uri": "https://localhost:8080/"
        },
        "id": "-zGKzlAiQ7lz",
        "outputId": "e03159c2-60ba-462f-c649-15a13a99369f"
      },
      "execution_count": null,
      "outputs": [
        {
          "output_type": "stream",
          "name": "stdout",
          "text": [
            "['April 30, 1789', 'March 4, 1793', 'March 4, 1841', 'January 20, 1945']\n"
          ]
        }
      ]
    },
    {
      "cell_type": "markdown",
      "source": [
        "re_patttern3 - this is the specified pattern for match to the string to search similar patterns.\n",
        "\n",
        "re.findall() - this is used for identifies every match and returns it as a list of strings, each string denoting a different match.\n",
        "\n",
        "inau_text -  is predefined text paragraph used for pattern match.\n",
        "\n",
        "'?' - is used to matches the previous character for 0 or 1 times.\n",
        "'(?:January|February|March|April|May|June|July|August|September|October|November|December)' - is used for pattern match with this predefined words for month name.its must be start with month name.\n",
        "\n",
        "'\\d' - returns a string where pattern contains digits.\n",
        "\n",
        "'|' - this is OR operator is used for checking the pattern whether its match with the string or not and return the matching pattern.\n",
        "\n",
        "\n",
        "'{1,2}' - Any repetitions from 1 to 2, inclusive, before the regex are matched by the braces.this is used for match the string for upto 1 to 2 characters.here, it will return the same digits.\n",
        "\n",
        "',' - is used as a must character where ,(comma) is used as compulsary character for matching pattern.\n",
        "\n",
        "'{4}' - this is used for specified number of occurance.this is used for digit occurance 4 times.\n"
      ],
      "metadata": {
        "id": "hoL8c-5kqvkQ"
      }
    },
    {
      "cell_type": "markdown",
      "source": [
        "Dan Jurafsky\n",
        "Basic Summariza-on Algorithm\n",
        "1. content selec:on: choose sentences to extract\n",
        "from the document\n",
        "2. informa:on ordering: just use document order\n",
        "3. sentence realiza:on: keep original sentences\n",
        "\n"
      ],
      "metadata": {
        "id": "TgPCT0YxTnyy"
      }
    }
  ]
}